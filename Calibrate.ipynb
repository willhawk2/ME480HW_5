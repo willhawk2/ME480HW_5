{
 "cells": [
  {
   "cell_type": "markdown",
   "metadata": {},
   "source": [
    "# Problem 1 \n",
    "Part A\n"
   ]
  },
  {
   "cell_type": "code",
   "execution_count": 6,
   "metadata": {},
   "outputs": [],
   "source": [
    "from solid import *\n",
    "from solid.utils import *\n",
    "import viewscad\n",
    "\n",
    "r = viewscad.Renderer(openscad_exec='C:\\Program Files\\OpenSCAD\\openscad.exe')\n"
   ]
  },
  {
   "cell_type": "code",
   "execution_count": 7,
   "metadata": {},
   "outputs": [
    {
     "data": {
      "application/vnd.jupyter.widget-view+json": {
       "model_id": "3bcb34fb027b43d7bccf65e8952fc9fb",
       "version_major": 2,
       "version_minor": 0
      },
      "text/plain": [
       "VBox(children=(HTML(value=''), Renderer(background='#cccc88', background_opacity=0.0, camera=PerspectiveCamera…"
      ]
     },
     "metadata": {},
     "output_type": "display_data"
    }
   ],
   "source": [
    "c1 = cylinder(r=5*2,h=5,segments=500)\n",
    "c2 = cylinder(r=2.5*2,h=5,segments=500)\n",
    "c = c1-c2\n",
    "r.render(c)"
   ]
  },
  {
   "cell_type": "markdown",
   "metadata": {},
   "source": [
    "Part B"
   ]
  },
  {
   "cell_type": "code",
   "execution_count": 8,
   "metadata": {},
   "outputs": [],
   "source": [
    "def cylinderWithHole(OuterDiameter,InnerDiameter):\n",
    "    if OuterDiameter > InnerDiameter: \n",
    "        c1 = cylinder(r=(OuterDiameter/2),h=5,segments=100)\n",
    "        c2 = cylinder(r=(InnerDiameter/2),h=5,segments=100)\n",
    "        c = c1-c2\n",
    "        r.render(c)\n",
    "    else: \n",
    "        print('Invalid Entry')\n",
    "        \n",
    "   "
   ]
  },
  {
   "cell_type": "markdown",
   "metadata": {},
   "source": [
    "Part C"
   ]
  },
  {
   "cell_type": "code",
   "execution_count": 21,
   "metadata": {},
   "outputs": [],
   "source": [
    "def cylinderWall(ID,Wth):\n",
    "    '''Makes a wall of cylinders of inner diameter ID with Wall Thickness Wth with some overlap'''\n",
    "    c2 = cylinder(r=(ID[0]/2),h=5,segments=100)\n",
    "    c1 = cylinder(r=((ID[0]/2)+(Wth[0])),h=5,segments=100)\n",
    "    cnew = c1-c2\n",
    "    c = cnew\n",
    "    d = [0]\n",
    "    for i in range(1,len(ID)):\n",
    "        c2 = cylinder(r=(ID[i]/2),h=5,segments=50,center=10)\n",
    "        c1 = cylinder(r=((ID[i]/2)+(Wth[i])),h=5,segments=50,center=10)\n",
    "        cnew = c1-c2\n",
    "        if Wth[i]<=Wth[i-1]:\n",
    "            d.append(ID[i]/2+Wth[i]+ID[i-1]/2+Wth[i-1]-Wth[i]/2)\n",
    "            translateConstant = sum(d)\n",
    "            c3 = translate([translateConstant,0,0])(cnew)\n",
    "        else:\n",
    "            d.append(ID[i]/2+Wth[i]+ID[i-1]/2+Wth[i-1]-Wth[i-1]/2)\n",
    "            translateConstant = sum(d)\n",
    "            c3 = translate([translateConstant,0,0])(cnew)\n",
    "        c = c+c3\n",
    "    r.render(c)"
   ]
  },
  {
   "cell_type": "markdown",
   "metadata": {},
   "source": [
    "# Problem 2\n",
    "Part B"
   ]
  },
  {
   "cell_type": "code",
   "execution_count": 56,
   "metadata": {},
   "outputs": [],
   "source": [
    "def commonBasePost(D,S,H):\n",
    "    c = cylinder(D[0],H)\n",
    "    for i in range(1,len(D)):\n",
    "        c2 = (translate([0,S*i,0])(cylinder(D[i],H)))\n",
    "        c = c+c2\n",
    "    c3 = cylinder(max(D)+0.5,H/4)\n",
    "    c4 = translate([0,S*(len(D)-1),0])(c3)\n",
    "    c = c+hull()(c3,c4)\n",
    "    r.render(c)"
   ]
  },
  {
   "cell_type": "code",
   "execution_count": null,
   "metadata": {},
   "outputs": [],
   "source": []
  }
 ],
 "metadata": {
  "kernelspec": {
   "display_name": "Python 3",
   "language": "python",
   "name": "python3"
  },
  "language_info": {
   "codemirror_mode": {
    "name": "ipython",
    "version": 3
   },
   "file_extension": ".py",
   "mimetype": "text/x-python",
   "name": "python",
   "nbconvert_exporter": "python",
   "pygments_lexer": "ipython3",
   "version": "3.7.3"
  }
 },
 "nbformat": 4,
 "nbformat_minor": 2
}
