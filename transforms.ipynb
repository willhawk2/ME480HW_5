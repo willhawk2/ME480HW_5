{
 "cells": [
  {
   "cell_type": "markdown",
   "metadata": {},
   "source": [
    "Setting up for using solid models"
   ]
  },
  {
   "cell_type": "code",
   "execution_count": 51,
   "metadata": {},
   "outputs": [],
   "source": [
    "from solid import *\n",
    "from solid.utils import *\n",
    "import viewscad\n",
    "r = viewscad.Renderer(openscad_exec='C:\\Program Files\\OpenSCAD\\openscad.exe')"
   ]
  },
  {
   "cell_type": "markdown",
   "metadata": {},
   "source": [
    "Part A"
   ]
  },
  {
   "cell_type": "code",
   "execution_count": 52,
   "metadata": {},
   "outputs": [
    {
     "data": {
      "application/vnd.jupyter.widget-view+json": {
       "model_id": "c1c846fdbdaa4eadb92c4315a5221587",
       "version_major": 2,
       "version_minor": 0
      },
      "text/plain": [
       "VBox(children=(HTML(value=''), Renderer(background='#cccc88', background_opacity=0.0, camera=PerspectiveCamera…"
      ]
     },
     "metadata": {},
     "output_type": "display_data"
    }
   ],
   "source": [
    "from math import cos, sin, pi\n",
    "import numpy as np\n",
    "angle = [20,10,30]\n",
    "axis = [1,1,1]\n",
    "Z = [0,0,1]\n",
    "Xp = [cos(angle[0]*pi/180),sin(angle[0]*pi/180),0]\n",
    "Zpp = [Xp[0],Xp[1]*sin(angle[1]*pi/180),cos(angle[1]*pi/180)]\n",
    "z = rotate(angle[0],Z)(cube([1,1,1]))\n",
    "xp = rotate(angle[1],Xp)(z)\n",
    "zpp = rotate(angle[2],Zpp)(xp)\n",
    "r.render(zpp)"
   ]
  },
  {
   "cell_type": "markdown",
   "metadata": {},
   "source": [
    "Part B"
   ]
  },
  {
   "cell_type": "code",
   "execution_count": 53,
   "metadata": {},
   "outputs": [
    {
     "data": {
      "application/vnd.jupyter.widget-view+json": {
       "model_id": "74508fa589cc4e4483df5480987ca0ce",
       "version_major": 2,
       "version_minor": 0
      },
      "text/plain": [
       "VBox(children=(HTML(value=''), Renderer(background='#cccc88', background_opacity=0.0, camera=PerspectiveCamera…"
      ]
     },
     "metadata": {},
     "output_type": "display_data"
    }
   ],
   "source": [
    "angle = [20,10,30]\n",
    "axis = [1,1,1]\n",
    "Z = [0,0,1]\n",
    "Xp = [cos(angle[0]*pi/180),sin(angle[0]*pi/180),0]\n",
    "Zpp = [Xp[0],Xp[1]*sin(angle[1]*pi/180),cos(angle[1]*pi/180)]\n",
    "z = rotate(angle[0],Z)(cube([1,1,1]))\n",
    "xp = rotate(angle[1],Xp)(z)\n",
    "zpp = rotate(angle[2],Zpp)(xp)\n",
    "final = translate([5,5,0])(zpp)\n",
    "r.render(final)"
   ]
  },
  {
   "cell_type": "markdown",
   "metadata": {},
   "source": [
    "Part C"
   ]
  },
  {
   "cell_type": "code",
   "execution_count": 54,
   "metadata": {},
   "outputs": [
    {
     "data": {
      "application/vnd.jupyter.widget-view+json": {
       "model_id": "40ad48df4afe46e5850dcbe7df127128",
       "version_major": 2,
       "version_minor": 0
      },
      "text/plain": [
       "VBox(children=(HTML(value=''), Renderer(background='#cccc88', background_opacity=0.0, camera=PerspectiveCamera…"
      ]
     },
     "metadata": {},
     "output_type": "display_data"
    },
    {
     "data": {
      "application/vnd.jupyter.widget-view+json": {
       "model_id": "92daefd27f144d5bb4b1e91ec3f76498",
       "version_major": 2,
       "version_minor": 0
      },
      "text/plain": [
       "VBox(children=(HTML(value=''), Renderer(background='#cccc88', background_opacity=0.0, camera=PerspectiveCamera…"
      ]
     },
     "metadata": {},
     "output_type": "display_data"
    },
    {
     "data": {
      "application/vnd.jupyter.widget-view+json": {
       "model_id": "0e341a33457041a0885b3a13bff5ce76",
       "version_major": 2,
       "version_minor": 0
      },
      "text/plain": [
       "VBox(children=(HTML(value=''), Renderer(background='#cccc88', background_opacity=0.0, camera=PerspectiveCamera…"
      ]
     },
     "metadata": {},
     "output_type": "display_data"
    }
   ],
   "source": [
    "import numpy as np\n",
    "c = cube(1)\n",
    "b = 0.5\n",
    "point = ((0,0),(0,-1),(0.5,-1))\n",
    "cutx = rotate(90,[-1,0,0])(linear_extrude(height = 1,slices = 100)(polygon(point)))\n",
    "addx = translate([1,0,0])(cut)\n",
    "xshear = r.render(c-cutx+addx)\n",
    "cuty = translate([1,0,0])(rotate(90,[0,0,1])(cutx))\n",
    "addy = translate([0,1,0])(cuty)\n",
    "yshear = r.render(c-cuty+addy)\n",
    "cutz = translate([1,1,0])(rotate(90,[1,0,0])((rotate(90,[0,0,1])(cut))))\n",
    "addz = translate([0,0,1])(cutz)\n",
    "zshear = r.render(c-cutz+addz)\n"
   ]
  },
  {
   "cell_type": "code",
   "execution_count": null,
   "metadata": {},
   "outputs": [],
   "source": []
  },
  {
   "cell_type": "code",
   "execution_count": null,
   "metadata": {},
   "outputs": [],
   "source": []
  }
 ],
 "metadata": {
  "kernelspec": {
   "display_name": "Python 3",
   "language": "python",
   "name": "python3"
  },
  "language_info": {
   "codemirror_mode": {
    "name": "ipython",
    "version": 3
   },
   "file_extension": ".py",
   "mimetype": "text/x-python",
   "name": "python",
   "nbconvert_exporter": "python",
   "pygments_lexer": "ipython3",
   "version": "3.7.3"
  }
 },
 "nbformat": 4,
 "nbformat_minor": 2
}
